{
 "cells": [
  {
   "cell_type": "markdown",
   "metadata": {},
   "source": [
    "# Preparación del problema"
   ]
  },
  {
   "cell_type": "markdown",
   "metadata": {},
   "source": [
    "## Importación de las librerias "
   ]
  },
  {
   "cell_type": "code",
   "execution_count": 1,
   "metadata": {},
   "outputs": [],
   "source": [
    "import pandas as pd\n",
    "import seaborn as sns\n",
    "import numpy as np"
   ]
  },
  {
   "cell_type": "code",
   "execution_count": 2,
   "metadata": {},
   "outputs": [
    {
     "data": {
      "text/html": [
       "<div>\n",
       "<style scoped>\n",
       "    .dataframe tbody tr th:only-of-type {\n",
       "        vertical-align: middle;\n",
       "    }\n",
       "\n",
       "    .dataframe tbody tr th {\n",
       "        vertical-align: top;\n",
       "    }\n",
       "\n",
       "    .dataframe thead th {\n",
       "        text-align: right;\n",
       "    }\n",
       "</style>\n",
       "<table border=\"1\" class=\"dataframe\">\n",
       "  <thead>\n",
       "    <tr style=\"text-align: right;\">\n",
       "      <th></th>\n",
       "      <th>total_bill</th>\n",
       "      <th>tip</th>\n",
       "      <th>sex</th>\n",
       "      <th>smoker</th>\n",
       "      <th>day</th>\n",
       "      <th>time</th>\n",
       "      <th>size</th>\n",
       "    </tr>\n",
       "  </thead>\n",
       "  <tbody>\n",
       "    <tr>\n",
       "      <th>0</th>\n",
       "      <td>16.99</td>\n",
       "      <td>1.01</td>\n",
       "      <td>Female</td>\n",
       "      <td>No</td>\n",
       "      <td>Sun</td>\n",
       "      <td>Dinner</td>\n",
       "      <td>2</td>\n",
       "    </tr>\n",
       "    <tr>\n",
       "      <th>1</th>\n",
       "      <td>10.34</td>\n",
       "      <td>1.66</td>\n",
       "      <td>Male</td>\n",
       "      <td>No</td>\n",
       "      <td>Sun</td>\n",
       "      <td>Dinner</td>\n",
       "      <td>3</td>\n",
       "    </tr>\n",
       "    <tr>\n",
       "      <th>2</th>\n",
       "      <td>21.01</td>\n",
       "      <td>3.50</td>\n",
       "      <td>Male</td>\n",
       "      <td>No</td>\n",
       "      <td>Sun</td>\n",
       "      <td>Dinner</td>\n",
       "      <td>3</td>\n",
       "    </tr>\n",
       "    <tr>\n",
       "      <th>3</th>\n",
       "      <td>23.68</td>\n",
       "      <td>3.31</td>\n",
       "      <td>Male</td>\n",
       "      <td>No</td>\n",
       "      <td>Sun</td>\n",
       "      <td>Dinner</td>\n",
       "      <td>2</td>\n",
       "    </tr>\n",
       "    <tr>\n",
       "      <th>4</th>\n",
       "      <td>24.59</td>\n",
       "      <td>3.61</td>\n",
       "      <td>Female</td>\n",
       "      <td>No</td>\n",
       "      <td>Sun</td>\n",
       "      <td>Dinner</td>\n",
       "      <td>4</td>\n",
       "    </tr>\n",
       "  </tbody>\n",
       "</table>\n",
       "</div>"
      ],
      "text/plain": [
       "   total_bill   tip     sex smoker  day    time  size\n",
       "0       16.99  1.01  Female     No  Sun  Dinner     2\n",
       "1       10.34  1.66    Male     No  Sun  Dinner     3\n",
       "2       21.01  3.50    Male     No  Sun  Dinner     3\n",
       "3       23.68  3.31    Male     No  Sun  Dinner     2\n",
       "4       24.59  3.61  Female     No  Sun  Dinner     4"
      ]
     },
     "execution_count": 2,
     "metadata": {},
     "output_type": "execute_result"
    }
   ],
   "source": [
    "tips_df = sns.load_dataset('tips')\n",
    "tips_df.head()"
   ]
  },
  {
   "cell_type": "code",
   "execution_count": 3,
   "metadata": {},
   "outputs": [
    {
     "data": {
      "text/plain": [
       "total_bill    0\n",
       "tip           0\n",
       "sex           0\n",
       "smoker        0\n",
       "day           0\n",
       "time          0\n",
       "size          0\n",
       "dtype: int64"
      ]
     },
     "execution_count": 3,
     "metadata": {},
     "output_type": "execute_result"
    }
   ],
   "source": [
    "tips_df.isnull().sum()"
   ]
  },
  {
   "cell_type": "code",
   "execution_count": 4,
   "metadata": {},
   "outputs": [
    {
     "data": {
      "text/html": [
       "<div>\n",
       "<style scoped>\n",
       "    .dataframe tbody tr th:only-of-type {\n",
       "        vertical-align: middle;\n",
       "    }\n",
       "\n",
       "    .dataframe tbody tr th {\n",
       "        vertical-align: top;\n",
       "    }\n",
       "\n",
       "    .dataframe thead th {\n",
       "        text-align: right;\n",
       "    }\n",
       "</style>\n",
       "<table border=\"1\" class=\"dataframe\">\n",
       "  <thead>\n",
       "    <tr style=\"text-align: right;\">\n",
       "      <th></th>\n",
       "      <th>total_bill</th>\n",
       "      <th>tip</th>\n",
       "      <th>size</th>\n",
       "    </tr>\n",
       "  </thead>\n",
       "  <tbody>\n",
       "    <tr>\n",
       "      <th>count</th>\n",
       "      <td>244.000000</td>\n",
       "      <td>244.000000</td>\n",
       "      <td>244.000000</td>\n",
       "    </tr>\n",
       "    <tr>\n",
       "      <th>mean</th>\n",
       "      <td>19.785943</td>\n",
       "      <td>2.998279</td>\n",
       "      <td>2.569672</td>\n",
       "    </tr>\n",
       "    <tr>\n",
       "      <th>std</th>\n",
       "      <td>8.902412</td>\n",
       "      <td>1.383638</td>\n",
       "      <td>0.951100</td>\n",
       "    </tr>\n",
       "    <tr>\n",
       "      <th>min</th>\n",
       "      <td>3.070000</td>\n",
       "      <td>1.000000</td>\n",
       "      <td>1.000000</td>\n",
       "    </tr>\n",
       "    <tr>\n",
       "      <th>25%</th>\n",
       "      <td>13.347500</td>\n",
       "      <td>2.000000</td>\n",
       "      <td>2.000000</td>\n",
       "    </tr>\n",
       "    <tr>\n",
       "      <th>50%</th>\n",
       "      <td>17.795000</td>\n",
       "      <td>2.900000</td>\n",
       "      <td>2.000000</td>\n",
       "    </tr>\n",
       "    <tr>\n",
       "      <th>75%</th>\n",
       "      <td>24.127500</td>\n",
       "      <td>3.562500</td>\n",
       "      <td>3.000000</td>\n",
       "    </tr>\n",
       "    <tr>\n",
       "      <th>max</th>\n",
       "      <td>50.810000</td>\n",
       "      <td>10.000000</td>\n",
       "      <td>6.000000</td>\n",
       "    </tr>\n",
       "  </tbody>\n",
       "</table>\n",
       "</div>"
      ],
      "text/plain": [
       "       total_bill         tip        size\n",
       "count  244.000000  244.000000  244.000000\n",
       "mean    19.785943    2.998279    2.569672\n",
       "std      8.902412    1.383638    0.951100\n",
       "min      3.070000    1.000000    1.000000\n",
       "25%     13.347500    2.000000    2.000000\n",
       "50%     17.795000    2.900000    2.000000\n",
       "75%     24.127500    3.562500    3.000000\n",
       "max     50.810000   10.000000    6.000000"
      ]
     },
     "execution_count": 4,
     "metadata": {},
     "output_type": "execute_result"
    }
   ],
   "source": [
    "tips_df.describe()"
   ]
  },
  {
   "cell_type": "markdown",
   "metadata": {},
   "source": [
    "## Fastidiamos el dataset"
   ]
  },
  {
   "cell_type": "code",
   "execution_count": 5,
   "metadata": {},
   "outputs": [],
   "source": [
    "np.random.seed(42)\n",
    "\n",
    "nan_tip = np.random.choice(tips_df.index, 10, replace=False)\n",
    "tips_df.loc[nan_tip, 'tip'] = np.nan\n",
    "\n",
    "negative_tip = np.random.choice(tips_df.index.difference(nan_tip), 3, replace=False)\n",
    "tips_df.loc[negative_tip, 'tip'] = -tips_df.loc[negative_tip, 'tip'].abs()\n",
    "\n",
    "nan_total_bill = np.random.choice(tips_df.index, 3, replace=False)\n",
    "tips_df.loc[nan_total_bill, 'total_bill'] = np.nan"
   ]
  },
  {
   "cell_type": "code",
   "execution_count": 6,
   "metadata": {},
   "outputs": [
    {
     "data": {
      "text/plain": [
       "total_bill     3\n",
       "tip           10\n",
       "sex            0\n",
       "smoker         0\n",
       "day            0\n",
       "time           0\n",
       "size           0\n",
       "dtype: int64"
      ]
     },
     "execution_count": 6,
     "metadata": {},
     "output_type": "execute_result"
    }
   ],
   "source": [
    "tips_df.isnull().sum()"
   ]
  },
  {
   "cell_type": "code",
   "execution_count": 7,
   "metadata": {},
   "outputs": [
    {
     "data": {
      "text/html": [
       "<div>\n",
       "<style scoped>\n",
       "    .dataframe tbody tr th:only-of-type {\n",
       "        vertical-align: middle;\n",
       "    }\n",
       "\n",
       "    .dataframe tbody tr th {\n",
       "        vertical-align: top;\n",
       "    }\n",
       "\n",
       "    .dataframe thead th {\n",
       "        text-align: right;\n",
       "    }\n",
       "</style>\n",
       "<table border=\"1\" class=\"dataframe\">\n",
       "  <thead>\n",
       "    <tr style=\"text-align: right;\">\n",
       "      <th></th>\n",
       "      <th>total_bill</th>\n",
       "      <th>tip</th>\n",
       "      <th>size</th>\n",
       "    </tr>\n",
       "  </thead>\n",
       "  <tbody>\n",
       "    <tr>\n",
       "      <th>count</th>\n",
       "      <td>241.000000</td>\n",
       "      <td>234.000000</td>\n",
       "      <td>244.000000</td>\n",
       "    </tr>\n",
       "    <tr>\n",
       "      <th>mean</th>\n",
       "      <td>19.688631</td>\n",
       "      <td>2.938675</td>\n",
       "      <td>2.569672</td>\n",
       "    </tr>\n",
       "    <tr>\n",
       "      <th>std</th>\n",
       "      <td>8.848604</td>\n",
       "      <td>1.540356</td>\n",
       "      <td>0.951100</td>\n",
       "    </tr>\n",
       "    <tr>\n",
       "      <th>min</th>\n",
       "      <td>3.070000</td>\n",
       "      <td>-4.000000</td>\n",
       "      <td>1.000000</td>\n",
       "    </tr>\n",
       "    <tr>\n",
       "      <th>25%</th>\n",
       "      <td>13.280000</td>\n",
       "      <td>2.000000</td>\n",
       "      <td>2.000000</td>\n",
       "    </tr>\n",
       "    <tr>\n",
       "      <th>50%</th>\n",
       "      <td>17.780000</td>\n",
       "      <td>2.900000</td>\n",
       "      <td>2.000000</td>\n",
       "    </tr>\n",
       "    <tr>\n",
       "      <th>75%</th>\n",
       "      <td>24.060000</td>\n",
       "      <td>3.587500</td>\n",
       "      <td>3.000000</td>\n",
       "    </tr>\n",
       "    <tr>\n",
       "      <th>max</th>\n",
       "      <td>50.810000</td>\n",
       "      <td>10.000000</td>\n",
       "      <td>6.000000</td>\n",
       "    </tr>\n",
       "  </tbody>\n",
       "</table>\n",
       "</div>"
      ],
      "text/plain": [
       "       total_bill         tip        size\n",
       "count  241.000000  234.000000  244.000000\n",
       "mean    19.688631    2.938675    2.569672\n",
       "std      8.848604    1.540356    0.951100\n",
       "min      3.070000   -4.000000    1.000000\n",
       "25%     13.280000    2.000000    2.000000\n",
       "50%     17.780000    2.900000    2.000000\n",
       "75%     24.060000    3.587500    3.000000\n",
       "max     50.810000   10.000000    6.000000"
      ]
     },
     "execution_count": 7,
     "metadata": {},
     "output_type": "execute_result"
    }
   ],
   "source": [
    "tips_df.describe()"
   ]
  },
  {
   "cell_type": "markdown",
   "metadata": {},
   "source": [
    "# Ejercicio 1 (Inicio)"
   ]
  },
  {
   "cell_type": "markdown",
   "metadata": {},
   "source": [
    "## Ejercicio 1.1 \n",
    "\n",
    "Realiza con .copy una copia del dataframe tips_df con el que vas a trabajar.\n",
    "\n",
    "Llamalo df, de manera que tengas el dataframe con las manipulaciones por si necesitas usarlo o realizar la copia de nuevo. \n",
    "\n",
    "Imprime por consola los 5 primeros registros (head) y los 5 últimos (tail), imprime las forma del dataset (shape), el indice (index) y las columnas (columns).\n",
    "\n",
    "Imprime la información del mismo con un (info) y también los estadísticos con un (describe).\n",
    "\n",
    "Haz por último un describe que incluya todas las columnas con 'all'."
   ]
  },
  {
   "cell_type": "markdown",
   "metadata": {},
   "source": [
    "## Ejercicio 1.2\n",
    "\n",
    "Comprueba que columnas tienen NaN (isna().sum()), a continuación rellena los NaN de la columna tip con la media de la respectiva columna (fillna).\n",
    "\n",
    "En el caso de los NaN de total_bill elimina las filas correspondientes.\n",
    "\n",
    "Busca en tips, los valores que no tienen sentido (negativos) y elimina esas filas (o sobreescribe el dataframe solo con las filas validas, tip >= 0)"
   ]
  },
  {
   "cell_type": "markdown",
   "metadata": {},
   "source": [
    "## Ejercicio 1.3\n",
    "\n",
    "Comprueba si el dataset tiene filas duplicadas (duplicated)\n",
    "\n",
    "(Le he añadido 2 filas duplicadas, podría ser un cliente que ha tenido el mismo comportamiento que otro, pero vamos a presuponer que es un error)\n",
    "\n",
    "Quiero que en el primer caso, me elimines las duplicadas (todas menos la primera aparición, drop_duplicates)."
   ]
  },
  {
   "cell_type": "code",
   "execution_count": null,
   "metadata": {},
   "outputs": [],
   "source": [
    "df.loc[244] = df.loc[242]\n",
    "\n",
    "df.loc[245] = df.loc[242]"
   ]
  },
  {
   "cell_type": "markdown",
   "metadata": {},
   "source": [
    "### Ejercicio 1.3.2 \n",
    "\n",
    "Ahora quiero que me elimines los duplicados, pero conservando unicamente la última aparición (en lugar de la primera, que realizas por defecto, utiliza keep='last')."
   ]
  },
  {
   "cell_type": "code",
   "execution_count": null,
   "metadata": {},
   "outputs": [],
   "source": [
    "df.loc[245] = df.loc[243]"
   ]
  },
  {
   "cell_type": "markdown",
   "metadata": {},
   "source": [
    "# Ejercicio 2 "
   ]
  },
  {
   "cell_type": "markdown",
   "metadata": {},
   "source": [
    "## Ejercicio 2.1\n",
    "\n",
    "Quiero que me muestres los registros con indice 10, 100 y 200 con (loc)\n",
    "\n",
    "Quiero que ordenes el dataset a partir de la columna total_bill con orden descendente (sort_values)\n",
    "\n",
    "Una vez ordenada, quiero que me muestres los 8 primeros registros (iloc)"
   ]
  },
  {
   "cell_type": "markdown",
   "metadata": {},
   "source": [
    "## Ejercicio 2.2\n",
    "\n",
    "Convierte la columna smoker con un mappeo donde .map('Yes':1, 'No':0)\n",
    "\n",
    "Realiza un df.info()\n",
    "\n",
    "Convierte la columna smoker a booleana (astype) y enseñame las 5 primeras filas\n"
   ]
  },
  {
   "cell_type": "markdown",
   "metadata": {},
   "source": [
    "## Ejercicio 2.3 \n",
    "\n",
    "Crea una columna que se llame porcentaje_tip, a partir del siguiente calculo:\n",
    "\n",
    "$$ porcentaje\\_tip = \\frac{tip}{tip + total\\_bill}*100 $$\n",
    "\n",
    "Crea una columna para posteriormente poder borrarla, \n",
    "\n",
    "por ejemplo: $$df['col\\_a\\_borrar'] = 1$$\n",
    "\n",
    "Por último elimina la columna col_a_borrar (drop)"
   ]
  },
  {
   "cell_type": "markdown",
   "metadata": {},
   "source": [
    "# Ejercicio 3 \n",
    "\n",
    "## Ejercicio 3.1\n",
    "\n",
    "Realiza un filtrado condicional simple, donde obtengas un dataframe llamado fumadores y otro llamado no_fumadores"
   ]
  },
  {
   "cell_type": "markdown",
   "metadata": {},
   "source": [
    "## Ejercicio 3.2 \n",
    "\n",
    "Realiza un filtrado condicional múltiple, donde consigas un dataframe llamado fumadores_viernes_o_sabados, donde las condiciones sean:\n",
    "\n",
    "fumadores, correspondientes al día de viernes o sábado. \n",
    "\n",
    "Muestra un describe de fumadores_viernes_o_sabados."
   ]
  },
  {
   "cell_type": "markdown",
   "metadata": {},
   "source": [
    "## Ejercicio 3.3\n",
    "\n",
    "Realiza un nuevo dataset con (.query) llamado hombres_propinas_bajas, donde sex sea 'Male' y porcentaje_tip < 10\n",
    "\n",
    "Muestra los 5 primeros registros por pantalla."
   ]
  },
  {
   "cell_type": "markdown",
   "metadata": {},
   "source": [
    "## Ejercicio 3.4\n",
    "\n",
    "Crea una máscara booleana, que cumpla los siguientes criterios:\n",
    "\n",
    "mask \n",
    "\n",
    "day: Fri, Sat, Sun (Fin de semana)\n",
    "total_bill > 30 \n",
    "size > 1\n",
    "\n",
    "Utiliza la misma para crear un dataframe llamado imp_grupos_consumidores_finde\n",
    "\n",
    "Muestra 5 registros por pantalla\n"
   ]
  },
  {
   "cell_type": "markdown",
   "metadata": {},
   "source": [
    "# Ejercicio 4\n",
    "\n",
    "## Ejercicio 4.1\n",
    "\n",
    "Quiero exportar los datasets en la carpeta donde estoy realizando la ejecución con las siguientes condiciones:\n",
    "\n",
    "df --> csv (.to_csv)\n",
    "\n",
    "fumadores --> txt (.to_csv)\n",
    "\n",
    "no_fumadores --> csv (sin header) (.to_csv)\n",
    "\n",
    "hombres_propinas_bajas --> html (.to_html)\n",
    "\n",
    "imp_grupos_consumidores_finde --> excel, quiero que la hoja se llame subgrupo (.to_excel, sheet_name)\n",
    "\n",
    "df --> json (.to_json)\n",
    "\n",
    "## Ejercicio 4.2\n",
    "\n",
    "Carga el dataset fumadores.csv (pd.read_csv) y lo llamas df_fumadores\n"
   ]
  },
  {
   "cell_type": "markdown",
   "metadata": {},
   "source": [
    "# Ejercicio 5\n",
    "\n",
    "## Ejercicio 5.1\n",
    "\n",
    "Importa el dataset df (según el guardado, quizás necesites index_col)\n",
    "\n",
    "Realiza los siguientes estudios con groupby\n",
    "\n",
    "1) La media de tip por day \n",
    "\n",
    "2) La media de tip para smoker \n",
    "\n",
    "3) La media de tip para sex\n"
   ]
  },
  {
   "cell_type": "markdown",
   "metadata": {},
   "source": [
    "## Ejercicio 5.2\n",
    "\n",
    "Realiza un groupby, donde estudiemos por day y por smoker (juntos), la mediana de tip.\n",
    "\n",
    "Realiza el groupby para índice day junto a smoker y ayudate de (.agg) para estudiar para tip y total_bill (la media, count, min y max)"
   ]
  },
  {
   "cell_type": "markdown",
   "metadata": {},
   "source": [
    "## Ejercicio 5.3\n",
    "\n",
    "Quiero los siguientes pivot_table\n",
    "\n",
    "1º - index=sex | columns=day | values=tip | aggfunc=mean\n",
    "\n",
    "2º - index=sex | columns=day | values=tip | aggfunc=mean (quiero que tenga margins y quiero que se llame Total con margins_name)\n",
    "\n",
    "3º - index=day | columns=sex | values=tip  (quiero que tenga margins y quiero que se llame Total con margins_name) y además \n",
    "quiero que tenga aggfunc=['mean', 'median', 'max', 'min']"
   ]
  }
 ],
 "metadata": {
  "kernelspec": {
   "display_name": "Python 3",
   "language": "python",
   "name": "python3"
  },
  "language_info": {
   "codemirror_mode": {
    "name": "ipython",
    "version": 3
   },
   "file_extension": ".py",
   "mimetype": "text/x-python",
   "name": "python",
   "nbconvert_exporter": "python",
   "pygments_lexer": "ipython3",
   "version": "3.12.2"
  }
 },
 "nbformat": 4,
 "nbformat_minor": 2
}
